{
 "cells": [
  {
   "cell_type": "markdown",
   "metadata": {},
   "source": [
    "## Capstone Project - The Battle of the Neighborhood"
   ]
  },
  {
   "cell_type": "code",
   "execution_count": 1,
   "metadata": {},
   "outputs": [
    {
     "name": "stdout",
     "output_type": "stream",
     "text": [
      "Collecting package metadata (repodata.json): done\n",
      "Solving environment: done\n",
      "\n",
      "# All requested packages already installed.\n",
      "\n",
      "Libraries imported.\n"
     ]
    }
   ],
   "source": [
    "import time\n",
    "import pandas as pd # library for data analsysis\n",
    "pd.set_option('display.max_columns', None)\n",
    "pd.set_option('display.max_rows', None)\n",
    "\n",
    "import json # library to handle JSON files\n",
    "import requests # library to handle requests\n",
    "from pandas.io.json import json_normalize # tranform JSON file into a pandas dataframe\n",
    "\n",
    "from geopy.geocoders import Nominatim # convert an address into latitude and longitude values\n",
    "!conda install -c conda-forge folium=0.5.0 --yes # uncomment this line if you haven't completed the Foursquare API lab\n",
    "import folium # map rendering library\n",
    "\n",
    "print('Libraries imported.')"
   ]
  },
  {
   "cell_type": "markdown",
   "metadata": {},
   "source": [
    "## 1. Introduction:"
   ]
  },
  {
   "cell_type": "markdown",
   "metadata": {},
   "source": [
    "I  recently moved to San Jose, California. Looking for afordable good neighboorhood to rent near downtown San Jose. he apartment in San Jose must meet the following demands:\n",
    "apartment must be 2 or 3 bedrooms\n",
    "desired location is near a rail or cal station and within 3.0 mile radius\n",
    "price of rent not exceed $7,000 per month\n",
    "top ammenities in the selected neighborhood shall be similar to current residence\n",
    "desirable to have venues such as coffee shops,restaurants, gym and food shops"
   ]
  },
  {
   "cell_type": "markdown",
   "metadata": {},
   "source": [
    "#### Business Problem "
   ]
  },
  {
   "cell_type": "markdown",
   "metadata": {},
   "source": [
    "The challenge is to find a suitable apartment for rent in San Jose California that complies with the demands on location, price and venues. The data required to resolve this challenge is described in the following section 2, below."
   ]
  },
  {
   "cell_type": "markdown",
   "metadata": {},
   "source": [
    "#### Insterested Audience"
   ]
  },
  {
   "cell_type": "markdown",
   "metadata": {},
   "source": [
    "I believe this is a relevant challenge with valid questions for anyone moving to other large city. The methodology  is also applicable for anyone interested in exploring starting or locating a new business in any city. Lastly, it can also serve as a good practical exercise to develop Data Science skills."
   ]
  },
  {
   "cell_type": "markdown",
   "metadata": {},
   "source": [
    "### 2. Data Section"
   ]
  },
  {
   "cell_type": "markdown",
   "metadata": {},
   "source": [
    "The following data is required to answer the issues of the problem:\n",
    "\n",
    "- List of Boroughs and neighborhoods of San Jose with their geodata (latitude and longitude)\n",
    "- List of rail and cal stations in San Jose with their address location\n",
    "- List of apartments for rent in San Jose area with their addresses and price\n",
    "- Preferably, a list of apartment for rent with additional information, such as price, address, area, # of beds, etc\n",
    "- Venues for each San Jose neighborhood ( than can be clustered)\n",
    "- Venues for rail stations, as needed"
   ]
  },
  {
   "cell_type": "markdown",
   "metadata": {},
   "source": [
    "### Data Collection"
   ]
  },
  {
   "cell_type": "markdown",
   "metadata": {},
   "source": [
    "The data of this project is gather from different sources and combined together for final exploraton and analysis: \n",
    "\n",
    "- Web Scrapping of apartment rent data from Craiglist.\n",
    "- Light rail location \n",
    "- FourSquare API for gathering venues\n",
    "\n",
    "Craiglist web scrapping provides neighboorhood name, number of bedroom, rent price and square feet of apartment.These data is used for exploratory data analysis. \n",
    "Fouresquare API will be used to source venues of ineterst. \n"
   ]
  },
  {
   "cell_type": "markdown",
   "metadata": {},
   "source": [
    "## Data Preparation(Web Scrapping data from Cariglist)"
   ]
  },
  {
   "cell_type": "code",
   "execution_count": 2,
   "metadata": {},
   "outputs": [],
   "source": [
    "from selenium import webdriver\n",
    "from bs4 import BeautifulSoup\n",
    "import urllib\n",
    "import re\n",
    "import pandas as pd\n",
    "import numpy as np\n"
   ]
  },
  {
   "cell_type": "code",
   "execution_count": 3,
   "metadata": {},
   "outputs": [
    {
     "name": "stdout",
     "output_type": "stream",
     "text": [
      "<class 'bs4.element.ResultSet'>\n",
      "120\n"
     ]
    }
   ],
   "source": [
    "from requests import get\n",
    "\n",
    "#get the first page of the east bay housing prices\n",
    "response = get('https://sfbay.craigslist.org/search/sby/apa?hasPic=1) #get rid of those lame-o')#s that post a housing option without a pic using their filter\n",
    "#response = get('https://sfbay.craigslist.org/pen/apa/d/san-mateo-beautiful-apartment-in-san/7047106962.html')\n",
    "\n",
    "from bs4 import BeautifulSoup\n",
    "html_soup = BeautifulSoup(response.text, 'html.parser')\n",
    "\n",
    "#get the macro-container for the housing posts\n",
    "posts = html_soup.find_all('li', class_= 'result-row')\n",
    "print(type(posts)) #to double check that I got a ResultSet\n",
    "print(len(posts)) #to double check I got 120 (elements/page)"
   ]
  },
  {
   "cell_type": "code",
   "execution_count": 1,
   "metadata": {},
   "outputs": [
    {
     "ename": "NameError",
     "evalue": "name 'posts' is not defined",
     "output_type": "error",
     "traceback": [
      "\u001b[0;31m---------------------------------------------------------------------------\u001b[0m",
      "\u001b[0;31mNameError\u001b[0m                                 Traceback (most recent call last)",
      "\u001b[0;32m<ipython-input-1-ac6601fc2b41>\u001b[0m in \u001b[0;36m<module>\u001b[0;34m\u001b[0m\n\u001b[1;32m      1\u001b[0m \u001b[0;31m#grab the first post\u001b[0m\u001b[0;34m\u001b[0m\u001b[0;34m\u001b[0m\u001b[0;34m\u001b[0m\u001b[0m\n\u001b[0;32m----> 2\u001b[0;31m \u001b[0mpost_one\u001b[0m \u001b[0;34m=\u001b[0m \u001b[0mposts\u001b[0m\u001b[0;34m[\u001b[0m\u001b[0;36m0\u001b[0m\u001b[0;34m]\u001b[0m\u001b[0;34m\u001b[0m\u001b[0;34m\u001b[0m\u001b[0m\n\u001b[0m\u001b[1;32m      3\u001b[0m \u001b[0mpost_one\u001b[0m\u001b[0;34m\u001b[0m\u001b[0;34m\u001b[0m\u001b[0m\n\u001b[1;32m      4\u001b[0m \u001b[0mindex\u001b[0m \u001b[0;34m=\u001b[0m \u001b[0;36m0\u001b[0m\u001b[0;34m\u001b[0m\u001b[0;34m\u001b[0m\u001b[0m\n\u001b[1;32m      5\u001b[0m \u001b[0;32mfor\u001b[0m \u001b[0mpost\u001b[0m \u001b[0;32min\u001b[0m \u001b[0mposts\u001b[0m\u001b[0;34m:\u001b[0m\u001b[0;34m\u001b[0m\u001b[0;34m\u001b[0m\u001b[0m\n",
      "\u001b[0;31mNameError\u001b[0m: name 'posts' is not defined"
     ]
    }
   ],
   "source": [
    "#grab the first post\n",
    "post_one = posts[0]\n",
    "post_one\n",
    "index = 0\n",
    "for post in posts:\n",
    "    print(index, \": \", post)\n",
    "    index += 1 "
   ]
  },
  {
   "cell_type": "code",
   "execution_count": 5,
   "metadata": {},
   "outputs": [
    {
     "data": {
      "text/plain": [
       "'\\n$2195\\n'"
      ]
     },
     "execution_count": 5,
     "metadata": {},
     "output_type": "execute_result"
    }
   ],
   "source": [
    "post_one_price = post_one.a.text\n",
    "post_one_price\n"
   ]
  },
  {
   "cell_type": "code",
   "execution_count": 6,
   "metadata": {},
   "outputs": [],
   "source": [
    "#grab the time of the post in datetime format\n",
    "post_one_time = post_one.find('time', class_ = 'result-date')\n",
    "post_one_datetime = post_one_time['datetime']\n"
   ]
  },
  {
   "cell_type": "code",
   "execution_count": 7,
   "metadata": {},
   "outputs": [
    {
     "data": {
      "text/plain": [
       "'https://sfbay.craigslist.org/sby/apa/d/san-jose-welcome-home-your-1-bedroom/7051723028.html'"
      ]
     },
     "execution_count": 7,
     "metadata": {},
     "output_type": "execute_result"
    }
   ],
   "source": [
    "#getting tile of post one\n",
    "post1_title = post_one.find('a', class_ = 'result-title hdrlnk')\n",
    "post1_link = post1_title['href']\n",
    "post1_link"
   ]
  },
  {
   "cell_type": "code",
   "execution_count": 8,
   "metadata": {},
   "outputs": [
    {
     "data": {
      "text/plain": [
       "'Welcome home! Your 1 bedroom apt in Willow Glen, Totally RENOVATED!'"
      ]
     },
     "execution_count": 8,
     "metadata": {},
     "output_type": "execute_result"
    }
   ],
   "source": [
    "post1_text = post1_title.text\n",
    "post1_title.text"
   ]
  },
  {
   "cell_type": "code",
   "execution_count": 9,
   "metadata": {},
   "outputs": [
    {
     "data": {
      "text/plain": [
       "' (willow glen / cambrian)'"
      ]
     },
     "execution_count": 9,
     "metadata": {},
     "output_type": "execute_result"
    }
   ],
   "source": [
    "#getting post 1 neighboorhood\n",
    "post1_neigh = post_one.find('span', class_ = 'result-hood').text\n",
    "post1_neigh"
   ]
  },
  {
   "cell_type": "code",
   "execution_count": 10,
   "metadata": {},
   "outputs": [
    {
     "data": {
      "text/plain": [
       "'700'"
      ]
     },
     "execution_count": 10,
     "metadata": {},
     "output_type": "execute_result"
    }
   ],
   "source": [
    "post1_bed= post_one.find('span', class_ = 'housing').text\n",
    "post1_bed1 = post1_bed.split()[0]\n",
    "post1_bed1\n",
    "\n",
    "post1_sqrt = post1_bed.split()[2][:-3]#cleans fit\n",
    "post1_sqrt"
   ]
  },
  {
   "cell_type": "code",
   "execution_count": 11,
   "metadata": {},
   "outputs": [],
   "source": [
    "#building loop\n",
    "from time import sleep\n",
    "from random import randint\n",
    "from warnings import warn\n",
    "from time import time\n",
    "import numpy as np"
   ]
  },
  {
   "cell_type": "code",
   "execution_count": 12,
   "metadata": {},
   "outputs": [
    {
     "data": {
      "text/plain": [
       "3000"
      ]
     },
     "execution_count": 12,
     "metadata": {},
     "output_type": "execute_result"
    }
   ],
   "source": [
    "#calculate total no. of post\n",
    "tot_num = html_soup.find('div', class_ = 'search-legend')\n",
    "result_tot = int(tot_num.find('span',class_ = 'totalcount').text)\n",
    "result_tot"
   ]
  },
  {
   "cell_type": "code",
   "execution_count": 13,
   "metadata": {},
   "outputs": [
    {
     "name": "stdout",
     "output_type": "stream",
     "text": [
      "Page 1 scraped successfully!\n",
      "Page 2 scraped successfully!\n",
      "Page 3 scraped successfully!\n",
      "Page 4 scraped successfully!\n",
      "Page 5 scraped successfully!\n",
      "Page 6 scraped successfully!\n",
      "Page 7 scraped successfully!\n",
      "Page 8 scraped successfully!\n",
      "Page 9 scraped successfully!\n",
      "Page 10 scraped successfully!\n",
      "Page 11 scraped successfully!\n",
      "Page 12 scraped successfully!\n",
      "Page 13 scraped successfully!\n",
      "Page 14 scraped successfully!\n",
      "Page 15 scraped successfully!\n",
      "Page 16 scraped successfully!\n",
      "Page 17 scraped successfully!\n",
      "Page 18 scraped successfully!\n",
      "Page 19 scraped successfully!\n",
      "Page 20 scraped successfully!\n",
      "Page 21 scraped successfully!\n",
      "Page 22 scraped successfully!\n",
      "Page 23 scraped successfully!\n",
      "Page 24 scraped successfully!\n",
      "Page 25 scraped successfully!\n",
      "\n",
      "\n",
      "Scrape complete!\n"
     ]
    }
   ],
   "source": [
    "#creating loop\n",
    "pages = np.arange(0, result_tot,120)\n",
    "iterations = 0\n",
    "post_timing = []\n",
    "post_neighs = []\n",
    "post_title_texts = []\n",
    "post_links =[]\n",
    "post_prices = []\n",
    "bed_counts=[]\n",
    "sqfits=[]\n",
    "\n",
    "for page in pages:\n",
    "    response = get (\"https://sfbay.craigslist.org/search/sby/apa?\"\n",
    "                    +\"s=\"\n",
    "                    +str(page)\n",
    "                    +\"&hasPic=1\")\n",
    "    sleep(randint(1,5))\n",
    "    \n",
    "    #throw warning for status codes that are not 200\n",
    "    if response.status_code != 200:\n",
    "        warn('Request: {}; Status code: {}'.format(requests, response.status_code))\n",
    "    \n",
    "    #define html text\n",
    "    page_html = html_soup.find_all('li', class_ = 'result-row')\n",
    "    \n",
    "    #define the post\n",
    "    posts = html_soup.find_all('li', class_ = 'result-row')\n",
    "    \n",
    "    #extract each item data\n",
    "    for post in posts:\n",
    "        if post.find('span', class_ = 'result-hood') is not None:\n",
    "            #neighborhoods\n",
    "            post_neigh = post.find('span', class_= 'result-hood').text\n",
    "            post_neighs.append(post_neigh)\n",
    "            \n",
    "            #title text\n",
    "            post_title = post.find('a', class_ = 'result-title hdrlnk')\n",
    "            post_title_text = post_title.text\n",
    "            post_title_texts.append(post_title_text)\n",
    "            \n",
    "            #post link\n",
    "            post_link = post_title['href']\n",
    "            post_links.append(post_link)\n",
    "            \n",
    "            #post price\n",
    "            post_price = post.a.text\n",
    "            post_prices.append(post_price)\n",
    "            \n",
    "            #remove whitespaces, $ sign and turns it into int\n",
    "            post_price=int(post.a.text.strip().replace(\"$\",\"\"))\n",
    "            post_prices.append(post_price)\n",
    "            \n",
    "        #bedroom extract\n",
    "        if post.find('span', class_ = 'housing') is not None:\n",
    "            #is first element is sqft\n",
    "            if 'sqft' in post.find('span', class_ = 'housing').text.split()[0]:\n",
    "                #bedroom value will be nan\n",
    "                bed_count = np.nan\n",
    "                bed_counts.append(bed_count)\n",
    "                \n",
    "                #sqft will be first element\n",
    "                sqfit = int(post.find('span', class_ = 'housing').text.split()[0][:-3])\n",
    "                sqfits.append(sqfit)\n",
    "                \n",
    "            #if lent of text is more that 2\n",
    "            elif len(post.find('span', class_ = 'housing').text.split()) > 2:\n",
    "                \n",
    "                # first element will be bedroom\n",
    "                bed_count = post.find('span', class_ = 'housing').text.replace(\"br\", \"\").split()[0]\n",
    "                bed_counts.append(bed_count)\n",
    "                \n",
    "                #second element will be sqft\n",
    "                sqfit = int(post.find('span', class_ = 'housing').text.split()[2][:-3])\n",
    "                sqfits.append(sqfit)\n",
    "                \n",
    "            #if htere is bedroom but no sqft\n",
    "            elif len(post.find('span', class_='housing').text.split()) == 2:\n",
    "                #0 will be bedroom\n",
    "                bed_count = post.find('span', class_ = 'housing').text.replace(\"br\", \"\").split()[0]\n",
    "                bed_counts.append(bed_count)\n",
    "                 \n",
    "                #next wiil be sqft\n",
    "                sqfit = np.nan\n",
    "                sqfits.append(sqfit)\n",
    "                \n",
    "            #if non of those condition match:\n",
    "            else:\n",
    "                bed_count = np.nan\n",
    "                bed_counts.append(bed_count)\n",
    "                \n",
    "                sqfit=np.nan\n",
    "                sqfits.append(sqfit)\n",
    "                \n",
    "            #post_bed_count = post.find('span', class_ = 'housing').text.split()[]\n",
    "            \n",
    "    \n",
    "    iterations += 1\n",
    "    print(\"Page \" + str(iterations) + \" scraped successfully!\")\n",
    " \n",
    "print(\"\\n\")\n",
    "\n",
    "print(\"Scrape complete!\")   "
   ]
  },
  {
   "cell_type": "code",
   "execution_count": 14,
   "metadata": {},
   "outputs": [
    {
     "name": "stdout",
     "output_type": "stream",
     "text": [
      "2900 2900 2975 2975 2900 5800\n"
     ]
    }
   ],
   "source": [
    "import pandas as pd\n",
    "# apt = pd.DataFrame({'neighborhood' : post_neighs,\n",
    "#                   'post title' : post_title_texts,\n",
    "#                    'number bedrooms': bed_counts,\n",
    "#                    'sqft' : sqfits,\n",
    "#                      'URL': post_links,\n",
    "#                      'price': post_prices}\n",
    "#                  )\n",
    "\n",
    "apt = {'neighborhood' : post_neighs,\n",
    "                   'post title' : post_title_texts,\n",
    "                   'number bedrooms': bed_counts,\n",
    "                 'sqft' : sqfits,\n",
    "                   'URL': post_links,\n",
    "                   'price': post_prices}\n",
    "\n",
    "print(len(post_neighs),len(post_title_texts),len(bed_counts),len(sqfits),len(post_links),len(post_prices))\n",
    "apt_fi = pd.DataFrame.from_dict(apt,orient='index')\n",
    "apt1=apt_fi.transpose()\n",
    "apt1.to_csv('parsed.csv',index=False)\n",
    "# writer=pd.ExcelWriter(r'output.xlsx')\n",
    "# apt_fi.to_excel(writer,sheet_name='cx')\n",
    "# writer.save()\n",
    "#apt_fi.transpose()\n",
    "#print(apt_fi.info())\n",
    "#apt_fi.head()\n",
    "# k=list(apt.keys())\n",
    "# v=list(apt.values())\n",
    "# df=pd.DataFrame(list(zip(k,v)),columns=['k','v'])\n",
    "# df\n"
   ]
  },
  {
   "cell_type": "markdown",
   "metadata": {},
   "source": [
    "### Data Cleaning"
   ]
  },
  {
   "cell_type": "code",
   "execution_count": 6,
   "metadata": {},
   "outputs": [
    {
     "data": {
      "text/html": [
       "<div>\n",
       "<style scoped>\n",
       "    .dataframe tbody tr th:only-of-type {\n",
       "        vertical-align: middle;\n",
       "    }\n",
       "\n",
       "    .dataframe tbody tr th {\n",
       "        vertical-align: top;\n",
       "    }\n",
       "\n",
       "    .dataframe thead th {\n",
       "        text-align: right;\n",
       "    }\n",
       "</style>\n",
       "<table border=\"1\" class=\"dataframe\">\n",
       "  <thead>\n",
       "    <tr style=\"text-align: right;\">\n",
       "      <th></th>\n",
       "      <th>neighborhood</th>\n",
       "      <th>post title</th>\n",
       "      <th>number bedrooms</th>\n",
       "      <th>sqft</th>\n",
       "      <th>URL</th>\n",
       "      <th>price</th>\n",
       "      <th>lat</th>\n",
       "      <th>long</th>\n",
       "    </tr>\n",
       "  </thead>\n",
       "  <tbody>\n",
       "    <tr>\n",
       "      <th>0</th>\n",
       "      <td>cupertino</td>\n",
       "      <td>NEW UNIT, PRIME LOCATION, NEXT TO VTA/GROCERY....</td>\n",
       "      <td>2</td>\n",
       "      <td>800.0</td>\n",
       "      <td>https://sfbay.craigslist.org/sby/apa/d/cuperti...</td>\n",
       "      <td>2990.0</td>\n",
       "      <td>37.3230</td>\n",
       "      <td>-122.0322</td>\n",
       "    </tr>\n",
       "    <tr>\n",
       "      <th>1</th>\n",
       "      <td>cupertino</td>\n",
       "      <td>NEW UNIT, PRIME LOCATION, NEXT TO VTA/GROCERY....</td>\n",
       "      <td>2</td>\n",
       "      <td>800.0</td>\n",
       "      <td>https://sfbay.craigslist.org/sby/apa/d/cuperti...</td>\n",
       "      <td>2990.0</td>\n",
       "      <td>37.3230</td>\n",
       "      <td>-122.0322</td>\n",
       "    </tr>\n",
       "    <tr>\n",
       "      <th>2</th>\n",
       "      <td>cupertino</td>\n",
       "      <td>NEW UNIT, PRIME LOCATION, NEXT TO VTA/GROCERY....</td>\n",
       "      <td>2</td>\n",
       "      <td>800.0</td>\n",
       "      <td>https://sfbay.craigslist.org/sby/apa/d/cuperti...</td>\n",
       "      <td>2990.0</td>\n",
       "      <td>37.3230</td>\n",
       "      <td>-122.0322</td>\n",
       "    </tr>\n",
       "    <tr>\n",
       "      <th>3</th>\n",
       "      <td>milpitas</td>\n",
       "      <td>Pool And Spa with Fireside Lounge, Outdoor BBQ...</td>\n",
       "      <td>1</td>\n",
       "      <td>785.0</td>\n",
       "      <td>https://sfbay.craigslist.org/sby/apa/d/milpita...</td>\n",
       "      <td>2455.0</td>\n",
       "      <td>37.4323</td>\n",
       "      <td>-121.8996</td>\n",
       "    </tr>\n",
       "    <tr>\n",
       "      <th>4</th>\n",
       "      <td>cupertino</td>\n",
       "      <td>NEW UNIT, PRIME LOCATION, NEXT TO VTA/GROCERY....</td>\n",
       "      <td>2</td>\n",
       "      <td>800.0</td>\n",
       "      <td>https://sfbay.craigslist.org/sby/apa/d/cuperti...</td>\n",
       "      <td>2990.0</td>\n",
       "      <td>37.3230</td>\n",
       "      <td>-122.0322</td>\n",
       "    </tr>\n",
       "  </tbody>\n",
       "</table>\n",
       "</div>"
      ],
      "text/plain": [
       "  neighborhood                                         post title  \\\n",
       "0    cupertino  NEW UNIT, PRIME LOCATION, NEXT TO VTA/GROCERY....   \n",
       "1    cupertino  NEW UNIT, PRIME LOCATION, NEXT TO VTA/GROCERY....   \n",
       "2    cupertino  NEW UNIT, PRIME LOCATION, NEXT TO VTA/GROCERY....   \n",
       "3     milpitas  Pool And Spa with Fireside Lounge, Outdoor BBQ...   \n",
       "4    cupertino  NEW UNIT, PRIME LOCATION, NEXT TO VTA/GROCERY....   \n",
       "\n",
       "   number bedrooms   sqft                                                URL  \\\n",
       "0                2  800.0  https://sfbay.craigslist.org/sby/apa/d/cuperti...   \n",
       "1                2  800.0  https://sfbay.craigslist.org/sby/apa/d/cuperti...   \n",
       "2                2  800.0  https://sfbay.craigslist.org/sby/apa/d/cuperti...   \n",
       "3                1  785.0  https://sfbay.craigslist.org/sby/apa/d/milpita...   \n",
       "4                2  800.0  https://sfbay.craigslist.org/sby/apa/d/cuperti...   \n",
       "\n",
       "    price      lat      long  \n",
       "0  2990.0  37.3230 -122.0322  \n",
       "1  2990.0  37.3230 -122.0322  \n",
       "2  2990.0  37.3230 -122.0322  \n",
       "3  2455.0  37.4323 -121.8996  \n",
       "4  2990.0  37.3230 -122.0322  "
      ]
     },
     "execution_count": 6,
     "metadata": {},
     "output_type": "execute_result"
    }
   ],
   "source": [
    "import pandas as pd\n",
    "apt2 = pd.read_csv('/Users/bnakarmi/Documents/coursera/CapStone Project copy/export_dataframe1.csv')\n",
    "#apt2 = apt.to_csv(r'export_dataframe.csv', index = None, header = True)\n",
    "apt2.head()\n",
    "apt3=pd.DataFrame(apt2)\n",
    "apt3.head()"
   ]
  },
  {
   "cell_type": "code",
   "execution_count": 7,
   "metadata": {},
   "outputs": [
    {
     "data": {
      "text/html": [
       "<div>\n",
       "<style scoped>\n",
       "    .dataframe tbody tr th:only-of-type {\n",
       "        vertical-align: middle;\n",
       "    }\n",
       "\n",
       "    .dataframe tbody tr th {\n",
       "        vertical-align: top;\n",
       "    }\n",
       "\n",
       "    .dataframe thead th {\n",
       "        text-align: right;\n",
       "    }\n",
       "</style>\n",
       "<table border=\"1\" class=\"dataframe\">\n",
       "  <thead>\n",
       "    <tr style=\"text-align: right;\">\n",
       "      <th></th>\n",
       "      <th>neighborhood</th>\n",
       "      <th>post title</th>\n",
       "      <th>number bedrooms</th>\n",
       "      <th>sqft</th>\n",
       "      <th>URL</th>\n",
       "      <th>price</th>\n",
       "      <th>lat</th>\n",
       "      <th>long</th>\n",
       "    </tr>\n",
       "  </thead>\n",
       "  <tbody>\n",
       "    <tr>\n",
       "      <th>0</th>\n",
       "      <td>cupertino</td>\n",
       "      <td>NEW UNIT, PRIME LOCATION, NEXT TO VTA/GROCERY....</td>\n",
       "      <td>2</td>\n",
       "      <td>800.0</td>\n",
       "      <td>https://sfbay.craigslist.org/sby/apa/d/cuperti...</td>\n",
       "      <td>2990</td>\n",
       "      <td>37.3230</td>\n",
       "      <td>-122.0322</td>\n",
       "    </tr>\n",
       "    <tr>\n",
       "      <th>1</th>\n",
       "      <td>cupertino</td>\n",
       "      <td>NEW UNIT, PRIME LOCATION, NEXT TO VTA/GROCERY....</td>\n",
       "      <td>2</td>\n",
       "      <td>800.0</td>\n",
       "      <td>https://sfbay.craigslist.org/sby/apa/d/cuperti...</td>\n",
       "      <td>2990</td>\n",
       "      <td>37.3230</td>\n",
       "      <td>-122.0322</td>\n",
       "    </tr>\n",
       "    <tr>\n",
       "      <th>2</th>\n",
       "      <td>cupertino</td>\n",
       "      <td>NEW UNIT, PRIME LOCATION, NEXT TO VTA/GROCERY....</td>\n",
       "      <td>2</td>\n",
       "      <td>800.0</td>\n",
       "      <td>https://sfbay.craigslist.org/sby/apa/d/cuperti...</td>\n",
       "      <td>2990</td>\n",
       "      <td>37.3230</td>\n",
       "      <td>-122.0322</td>\n",
       "    </tr>\n",
       "    <tr>\n",
       "      <th>3</th>\n",
       "      <td>milpitas</td>\n",
       "      <td>Pool And Spa with Fireside Lounge, Outdoor BBQ...</td>\n",
       "      <td>1</td>\n",
       "      <td>785.0</td>\n",
       "      <td>https://sfbay.craigslist.org/sby/apa/d/milpita...</td>\n",
       "      <td>2455</td>\n",
       "      <td>37.4323</td>\n",
       "      <td>-121.8996</td>\n",
       "    </tr>\n",
       "    <tr>\n",
       "      <th>4</th>\n",
       "      <td>cupertino</td>\n",
       "      <td>NEW UNIT, PRIME LOCATION, NEXT TO VTA/GROCERY....</td>\n",
       "      <td>2</td>\n",
       "      <td>800.0</td>\n",
       "      <td>https://sfbay.craigslist.org/sby/apa/d/cuperti...</td>\n",
       "      <td>2990</td>\n",
       "      <td>37.3230</td>\n",
       "      <td>-122.0322</td>\n",
       "    </tr>\n",
       "  </tbody>\n",
       "</table>\n",
       "</div>"
      ],
      "text/plain": [
       "  neighborhood                                         post title  \\\n",
       "0    cupertino  NEW UNIT, PRIME LOCATION, NEXT TO VTA/GROCERY....   \n",
       "1    cupertino  NEW UNIT, PRIME LOCATION, NEXT TO VTA/GROCERY....   \n",
       "2    cupertino  NEW UNIT, PRIME LOCATION, NEXT TO VTA/GROCERY....   \n",
       "3     milpitas  Pool And Spa with Fireside Lounge, Outdoor BBQ...   \n",
       "4    cupertino  NEW UNIT, PRIME LOCATION, NEXT TO VTA/GROCERY....   \n",
       "\n",
       "   number bedrooms   sqft                                                URL  \\\n",
       "0                2  800.0  https://sfbay.craigslist.org/sby/apa/d/cuperti...   \n",
       "1                2  800.0  https://sfbay.craigslist.org/sby/apa/d/cuperti...   \n",
       "2                2  800.0  https://sfbay.craigslist.org/sby/apa/d/cuperti...   \n",
       "3                1  785.0  https://sfbay.craigslist.org/sby/apa/d/milpita...   \n",
       "4                2  800.0  https://sfbay.craigslist.org/sby/apa/d/cuperti...   \n",
       "\n",
       "   price      lat      long  \n",
       "0   2990  37.3230 -122.0322  \n",
       "1   2990  37.3230 -122.0322  \n",
       "2   2990  37.3230 -122.0322  \n",
       "3   2455  37.4323 -121.8996  \n",
       "4   2990  37.3230 -122.0322  "
      ]
     },
     "execution_count": 7,
     "metadata": {},
     "output_type": "execute_result"
    }
   ],
   "source": [
    "#apt3['price'] = apt3['price'].apply(lambda x: re.sub(r'[\\n$]+', '', x))\n",
    "#apt3['price'].replace('', np.nan, inplace = True)\n",
    "#convert price into url\n",
    "apt3['price'] = apt3['price'].astype(int)\n",
    "apt3.head()"
   ]
  },
  {
   "cell_type": "code",
   "execution_count": 69,
   "metadata": {},
   "outputs": [],
   "source": [
    "#drop NA\n",
    "apt_cl = apt3.dropna()"
   ]
  },
  {
   "cell_type": "code",
   "execution_count": 70,
   "metadata": {},
   "outputs": [
    {
     "name": "stderr",
     "output_type": "stream",
     "text": [
      "/Users/bnakarmi/anaconda3/lib/python3.7/site-packages/ipykernel_launcher.py:2: SettingWithCopyWarning: \n",
      "A value is trying to be set on a copy of a slice from a DataFrame.\n",
      "Try using .loc[row_indexer,col_indexer] = value instead\n",
      "\n",
      "See the caveats in the documentation: http://pandas.pydata.org/pandas-docs/stable/indexing.html#indexing-view-versus-copy\n",
      "  \n",
      "/Users/bnakarmi/anaconda3/lib/python3.7/site-packages/ipykernel_launcher.py:5: SettingWithCopyWarning: \n",
      "A value is trying to be set on a copy of a slice from a DataFrame.\n",
      "Try using .loc[row_indexer,col_indexer] = value instead\n",
      "\n",
      "See the caveats in the documentation: http://pandas.pydata.org/pandas-docs/stable/indexing.html#indexing-view-versus-copy\n",
      "  \"\"\"\n",
      "/Users/bnakarmi/anaconda3/lib/python3.7/site-packages/ipykernel_launcher.py:8: SettingWithCopyWarning: \n",
      "A value is trying to be set on a copy of a slice from a DataFrame.\n",
      "Try using .loc[row_indexer,col_indexer] = value instead\n",
      "\n",
      "See the caveats in the documentation: http://pandas.pydata.org/pandas-docs/stable/indexing.html#indexing-view-versus-copy\n",
      "  \n",
      "/Users/bnakarmi/anaconda3/lib/python3.7/site-packages/ipykernel_launcher.py:10: SettingWithCopyWarning: \n",
      "A value is trying to be set on a copy of a slice from a DataFrame.\n",
      "Try using .loc[row_indexer,col_indexer] = value instead\n",
      "\n",
      "See the caveats in the documentation: http://pandas.pydata.org/pandas-docs/stable/indexing.html#indexing-view-versus-copy\n",
      "  # Remove the CWD from sys.path while we load stuff.\n"
     ]
    }
   ],
   "source": [
    "#remove()\n",
    "apt_cl['neighborhood'] = apt_cl['neighborhood'].apply(lambda x: re.sub(r'[()]+', '', x))\n",
    "\n",
    "#remove /\n",
    "apt_cl['neighborhood'] = apt_cl['neighborhood'].apply(lambda x: re.sub(r'[/]+', '', x))\n",
    "\n",
    "# remove ,\n",
    "apt_cl['neighborhood'] = apt_cl['neighborhood'].apply(lambda x: re.sub(r'[,]+', '', x))\n",
    "\n",
    "apt_cl['neighborhood'] = apt_cl['neighborhood'].apply(lambda x: x.lstrip(' '))"
   ]
  },
  {
   "cell_type": "code",
   "execution_count": 71,
   "metadata": {},
   "outputs": [],
   "source": [
    "#get unique url\n",
    "apt_cl = apt_cl.drop_duplicates(subset=\"URL\")"
   ]
  },
  {
   "cell_type": "code",
   "execution_count": 72,
   "metadata": {},
   "outputs": [
    {
     "name": "stdout",
     "output_type": "stream",
     "text": [
      "<class 'pandas.core.frame.DataFrame'>\n",
      "Int64Index: 98 entries, 0 to 108\n",
      "Data columns (total 8 columns):\n",
      "neighborhood       98 non-null object\n",
      "post title         98 non-null object\n",
      "number bedrooms    98 non-null int64\n",
      "sqft               98 non-null float64\n",
      "URL                98 non-null object\n",
      "price              98 non-null int64\n",
      "lat                98 non-null float64\n",
      "long               98 non-null float64\n",
      "dtypes: float64(3), int64(2), object(3)\n",
      "memory usage: 6.9+ KB\n"
     ]
    }
   ],
   "source": [
    "apt_cl.info()"
   ]
  },
  {
   "cell_type": "code",
   "execution_count": 73,
   "metadata": {},
   "outputs": [
    {
     "data": {
      "text/html": [
       "<div>\n",
       "<style scoped>\n",
       "    .dataframe tbody tr th:only-of-type {\n",
       "        vertical-align: middle;\n",
       "    }\n",
       "\n",
       "    .dataframe tbody tr th {\n",
       "        vertical-align: top;\n",
       "    }\n",
       "\n",
       "    .dataframe thead th {\n",
       "        text-align: right;\n",
       "    }\n",
       "</style>\n",
       "<table border=\"1\" class=\"dataframe\">\n",
       "  <thead>\n",
       "    <tr style=\"text-align: right;\">\n",
       "      <th></th>\n",
       "      <th>neighborhood</th>\n",
       "      <th>post title</th>\n",
       "      <th>number bedrooms</th>\n",
       "      <th>sqft</th>\n",
       "      <th>URL</th>\n",
       "      <th>price</th>\n",
       "      <th>lat</th>\n",
       "      <th>long</th>\n",
       "    </tr>\n",
       "  </thead>\n",
       "  <tbody>\n",
       "    <tr>\n",
       "      <th>103</th>\n",
       "      <td>mountain view</td>\n",
       "      <td>Designer Quartz Countertops, Chef-inspired Kit...</td>\n",
       "      <td>2</td>\n",
       "      <td>1600.0</td>\n",
       "      <td>https://sfbay.craigslist.org/sby/apa/d/palo-al...</td>\n",
       "      <td>3075</td>\n",
       "      <td>37.3861</td>\n",
       "      <td>-122.0839</td>\n",
       "    </tr>\n",
       "    <tr>\n",
       "      <th>105</th>\n",
       "      <td>mountain view</td>\n",
       "      <td>Mountain View 3BR apt, Very spacious! Modern f...</td>\n",
       "      <td>2</td>\n",
       "      <td>982.0</td>\n",
       "      <td>https://sfbay.craigslist.org/sby/apa/d/los-alt...</td>\n",
       "      <td>3895</td>\n",
       "      <td>37.3861</td>\n",
       "      <td>-122.0839</td>\n",
       "    </tr>\n",
       "    <tr>\n",
       "      <th>106</th>\n",
       "      <td>san jose west</td>\n",
       "      <td>Upgraded 1bed/1bath - Menden Manor Apartments</td>\n",
       "      <td>1</td>\n",
       "      <td>453.0</td>\n",
       "      <td>https://sfbay.craigslist.org/sby/apa/d/san-jos...</td>\n",
       "      <td>1995</td>\n",
       "      <td>337.3020</td>\n",
       "      <td>-121.9970</td>\n",
       "    </tr>\n",
       "    <tr>\n",
       "      <th>107</th>\n",
       "      <td>san jose south</td>\n",
       "      <td>Apartment for rent</td>\n",
       "      <td>2</td>\n",
       "      <td>971.0</td>\n",
       "      <td>https://sfbay.craigslist.org/sby/apa/d/san-jos...</td>\n",
       "      <td>2300</td>\n",
       "      <td>37.2802</td>\n",
       "      <td>-121.8362</td>\n",
       "    </tr>\n",
       "    <tr>\n",
       "      <th>108</th>\n",
       "      <td>san jose downtown</td>\n",
       "      <td>Excellent value! San Jose 1 bedroom apt, High ...</td>\n",
       "      <td>2</td>\n",
       "      <td>1155.0</td>\n",
       "      <td>https://sfbay.craigslist.org/sby/apa/d/san-jos...</td>\n",
       "      <td>2099</td>\n",
       "      <td>37.3337</td>\n",
       "      <td>-121.8907</td>\n",
       "    </tr>\n",
       "  </tbody>\n",
       "</table>\n",
       "</div>"
      ],
      "text/plain": [
       "          neighborhood                                         post title  \\\n",
       "103      mountain view  Designer Quartz Countertops, Chef-inspired Kit...   \n",
       "105      mountain view  Mountain View 3BR apt, Very spacious! Modern f...   \n",
       "106      san jose west      Upgraded 1bed/1bath - Menden Manor Apartments   \n",
       "107     san jose south                                 Apartment for rent   \n",
       "108  san jose downtown  Excellent value! San Jose 1 bedroom apt, High ...   \n",
       "\n",
       "     number bedrooms    sqft  \\\n",
       "103                2  1600.0   \n",
       "105                2   982.0   \n",
       "106                1   453.0   \n",
       "107                2   971.0   \n",
       "108                2  1155.0   \n",
       "\n",
       "                                                   URL  price       lat  \\\n",
       "103  https://sfbay.craigslist.org/sby/apa/d/palo-al...   3075   37.3861   \n",
       "105  https://sfbay.craigslist.org/sby/apa/d/los-alt...   3895   37.3861   \n",
       "106  https://sfbay.craigslist.org/sby/apa/d/san-jos...   1995  337.3020   \n",
       "107  https://sfbay.craigslist.org/sby/apa/d/san-jos...   2300   37.2802   \n",
       "108  https://sfbay.craigslist.org/sby/apa/d/san-jos...   2099   37.3337   \n",
       "\n",
       "         long  \n",
       "103 -122.0839  \n",
       "105 -122.0839  \n",
       "106 -121.9970  \n",
       "107 -121.8362  \n",
       "108 -121.8907  "
      ]
     },
     "execution_count": 73,
     "metadata": {},
     "output_type": "execute_result"
    }
   ],
   "source": [
    "apt_cl.tail()"
   ]
  },
  {
   "cell_type": "code",
   "execution_count": 74,
   "metadata": {},
   "outputs": [
    {
     "data": {
      "image/png": "[encoded data removed]",
      "text/plain": [
       "<Figure size 720x432 with 1 Axes>"
      ]
     },
     "metadata": {
      "needs_background": "light"
     },
     "output_type": "display_data"
    }
   ],
   "source": [
    "#check distribution of price\n",
    "from matplotlib import figure \n",
    "import matplotlib.pyplot as plt\n",
    "import seaborn as sns\n",
    "%matplotlib inline\n",
    "\n",
    "plt.figure(figsize = (10,6))\n",
    "plt.hist(apt_cl['price']);\n"
   ]
  },
  {
   "cell_type": "code",
   "execution_count": 75,
   "metadata": {},
   "outputs": [],
   "source": [
    "#export_csv = apt.to_csv(r'\\\\Users\\bnakarmi\\Documents\\export_dataframe.csv', index = None, header = True)\n",
    "export_csv = apt_cl.to_csv(r'export_dataframe.csv', index = None, header = True)"
   ]
  },
  {
   "cell_type": "code",
   "execution_count": 76,
   "metadata": {},
   "outputs": [],
   "source": [
    "def f(row):\n",
    "    if row['neighborhood'] == 'cupertino':\n",
    "        val = '37.3230,-122.0322'\n",
    "        \n",
    "    elif row['neighborhood'] == 'milpitas':\n",
    "        val = '37.4323,-121.8996'\n",
    "        \n",
    "    elif row['neighborhood'] == 'san jose west':\n",
    "        val = '337.3020,-121.9970'\n",
    "    \n",
    "    elif row['neighborhood'] == 'san jose east':\n",
    "        val = '37.3262,-121.8202'\n",
    "    \n",
    "    elif row['neighborhood'] == 'san jose downtown':\n",
    "        val = '37.3337,-121.8907'\n",
    "    \n",
    "    elif row['neighborhood'] == 'sunnyvale':\n",
    "        val = '37.3688,-122.0363'\n",
    "        \n",
    "    elif row['neighborhood'] == 'santa clara':\n",
    "        val = '37.3541,-121.9552'\n",
    "    elif row['neighborhood'] == 'campbell':\n",
    "        val = '37.2872,-121.9500'\n",
    "    elif row['neighborhood'] == 'san jose north':\n",
    "        val = '37.3897,-121.9302'\n",
    "    elif row['neighborhood'] == 'san jose south':\n",
    "        val = '37.2802,-121.8362'\n",
    "    elif row['neighborhood'] == 'mountain view':\n",
    "        val = '37.3861,-122.0839'\n",
    "    elif row['neighborhood'] == 'los gatos':\n",
    "        val = '37.2358,-1121.9624'\n",
    "        \n",
    "    else:\n",
    "        val = 0\n",
    "        \n",
    "    return val\n",
    "    "
   ]
  },
  {
   "cell_type": "code",
   "execution_count": 8,
   "metadata": {},
   "outputs": [
    {
     "ename": "NameError",
     "evalue": "name 'apt_cl' is not defined",
     "output_type": "error",
     "traceback": [
      "\u001b[0;31m---------------------------------------------------------------------------\u001b[0m",
      "\u001b[0;31mNameError\u001b[0m                                 Traceback (most recent call last)",
      "\u001b[0;32m<ipython-input-8-0575f7518d65>\u001b[0m in \u001b[0;36m<module>\u001b[0;34m\u001b[0m\n\u001b[1;32m      1\u001b[0m \u001b[0;31m#adding new lat long column\u001b[0m\u001b[0;34m\u001b[0m\u001b[0;34m\u001b[0m\u001b[0;34m\u001b[0m\u001b[0m\n\u001b[0;32m----> 2\u001b[0;31m \u001b[0mapt_cl\u001b[0m\u001b[0;34m[\u001b[0m\u001b[0;34m'lat'\u001b[0m\u001b[0;34m]\u001b[0m \u001b[0;34m=\u001b[0m \u001b[0mapt_cl\u001b[0m\u001b[0;34m.\u001b[0m\u001b[0mapply\u001b[0m\u001b[0;34m(\u001b[0m\u001b[0mf\u001b[0m\u001b[0;34m,\u001b[0m\u001b[0maxis\u001b[0m\u001b[0;34m=\u001b[0m\u001b[0;36m1\u001b[0m\u001b[0;34m)\u001b[0m\u001b[0;34m\u001b[0m\u001b[0;34m\u001b[0m\u001b[0m\n\u001b[0m\u001b[1;32m      3\u001b[0m \u001b[0;34m\u001b[0m\u001b[0m\n\u001b[1;32m      4\u001b[0m \u001b[0;31m#splitting lat long column into two\u001b[0m\u001b[0;34m\u001b[0m\u001b[0;34m\u001b[0m\u001b[0;34m\u001b[0m\u001b[0m\n\u001b[1;32m      5\u001b[0m \u001b[0;31m#apt_cl1 = apt_cl.drop(['lat', 'lat_long'], axis =1)\u001b[0m\u001b[0;34m\u001b[0m\u001b[0;34m\u001b[0m\u001b[0;34m\u001b[0m\u001b[0m\n",
      "\u001b[0;31mNameError\u001b[0m: name 'apt_cl' is not defined"
     ]
    }
   ],
   "source": [
    "#adding new lat long column\n",
    "apt_cl['lat'] = apt_cl.apply(f,axis=1)\n",
    "\n",
    "#splitting lat long column into two\n",
    "#apt_cl1 = apt_cl.drop(['lat', 'lat_long'], axis =1)\n",
    "#apt_cl1"
   ]
  },
  {
   "cell_type": "code",
   "execution_count": 84,
   "metadata": {},
   "outputs": [],
   "source": [
    "apt_cl[['lat','long']]= apt_cl['lat'].str.split(',',expand=True)"
   ]
  },
  {
   "cell_type": "code",
   "execution_count": 3,
   "metadata": {},
   "outputs": [
    {
     "ename": "NameError",
     "evalue": "name 'apt_cl' is not defined",
     "output_type": "error",
     "traceback": [
      "\u001b[0;31m---------------------------------------------------------------------------\u001b[0m",
      "\u001b[0;31mNameError\u001b[0m                                 Traceback (most recent call last)",
      "\u001b[0;32m<ipython-input-3-a89b59d096bd>\u001b[0m in \u001b[0;36m<module>\u001b[0;34m\u001b[0m\n\u001b[1;32m      1\u001b[0m \u001b[0;31m#dropping null values\u001b[0m\u001b[0;34m\u001b[0m\u001b[0;34m\u001b[0m\u001b[0;34m\u001b[0m\u001b[0m\n\u001b[0;32m----> 2\u001b[0;31m \u001b[0mapt_cl\u001b[0m\u001b[0;34m.\u001b[0m\u001b[0mdropna\u001b[0m\u001b[0;34m(\u001b[0m\u001b[0mhow\u001b[0m\u001b[0;34m=\u001b[0m\u001b[0;34m'any'\u001b[0m\u001b[0;34m)\u001b[0m\u001b[0;34m\u001b[0m\u001b[0;34m\u001b[0m\u001b[0m\n\u001b[0m",
      "\u001b[0;31mNameError\u001b[0m: name 'apt_cl' is not defined"
     ]
    }
   ],
   "source": [
    "#dropping null values\n",
    "apt_cl.dropna(how='any')"
   ]
  },
  {
   "cell_type": "code",
   "execution_count": 78,
   "metadata": {},
   "outputs": [],
   "source": [
    "\n",
    "final_apt = apt_cl.to_csv(r'final_dataframe1.csv', index = None, header = True)"
   ]
  },
  {
   "cell_type": "markdown",
   "metadata": {},
   "source": [
    "## Mapping of San Jose, California"
   ]
  },
  {
   "cell_type": "code",
   "execution_count": 134,
   "metadata": {},
   "outputs": [
    {
     "name": "stdout",
     "output_type": "stream",
     "text": [
      "Collecting package metadata (repodata.json): done\n",
      "Solving environment: done\n",
      "\n",
      "# All requested packages already installed.\n",
      "\n",
      "Libraries imported.\n"
     ]
    }
   ],
   "source": [
    "import time\n",
    "import pandas as pd # library for data analsysis\n",
    "pd.set_option('display.max_columns', None)\n",
    "pd.set_option('display.max_rows', None)\n",
    "\n",
    "import json # library to handle JSON files\n",
    "import requests # library to handle requests\n",
    "from pandas.io.json import json_normalize # tranform JSON file into a pandas dataframe\n",
    "\n",
    "from geopy.geocoders import Nominatim # convert an address into latitude and longitude values\n",
    "!conda install -c conda-forge folium=0.5.0 --yes # uncomment this line if you haven't completed the Foursquare API lab\n",
    "import folium # map rendering library\n",
    "\n",
    "print('Libraries imported.')"
   ]
  },
  {
   "cell_type": "code",
   "execution_count": 135,
   "metadata": {},
   "outputs": [
    {
     "name": "stderr",
     "output_type": "stream",
     "text": [
      "/Users/bnakarmi/anaconda3/lib/python3.7/site-packages/ipykernel_launcher.py:3: DeprecationWarning: Using Nominatim with the default \"geopy/1.20.0\" `user_agent` is strongly discouraged, as it violates Nominatim's ToS https://operations.osmfoundation.org/policies/nominatim/ and may possibly cause 403 and 429 HTTP errors. Please specify a custom `user_agent` with `Nominatim(user_agent=\"my-application\")` or by overriding the default `user_agent`: `geopy.geocoders.options.default_user_agent = \"my-application\"`. In geopy 2.0 this will become an exception.\n",
      "  This is separate from the ipykernel package so we can avoid doing imports until\n"
     ]
    },
    {
     "name": "stdout",
     "output_type": "stream",
     "text": [
      "The geograpical coordinate of San Jose home are 37.3359104, -121.8910758.\n"
     ]
    }
   ],
   "source": [
    "address = 'Downtown San Jose, California'\n",
    "\n",
    "geolocator = Nominatim()\n",
    "location = geolocator.geocode(address)\n",
    "latitude = location.latitude\n",
    "longitude = location.longitude\n",
    "print('The geograpical coordinate of San Jose home are {}, {}.'.format(latitude, longitude))"
   ]
  },
  {
   "cell_type": "markdown",
   "metadata": {},
   "source": [
    "## Exploratory Data Analysis"
   ]
  },
  {
   "cell_type": "code",
   "execution_count": 87,
   "metadata": {},
   "outputs": [
    {
     "name": "stdout",
     "output_type": "stream",
     "text": [
      "<class 'pandas.core.frame.DataFrame'>\n",
      "Int64Index: 98 entries, 0 to 108\n",
      "Data columns (total 8 columns):\n",
      "neighborhood       98 non-null object\n",
      "post title         98 non-null object\n",
      "number bedrooms    98 non-null int64\n",
      "sqft               98 non-null float64\n",
      "URL                98 non-null object\n",
      "price              98 non-null int64\n",
      "lat                98 non-null object\n",
      "long               98 non-null object\n",
      "dtypes: float64(1), int64(2), object(5)\n",
      "memory usage: 6.9+ KB\n"
     ]
    }
   ],
   "source": [
    "apt_cl.info()"
   ]
  },
  {
   "cell_type": "code",
   "execution_count": 10,
   "metadata": {},
   "outputs": [
    {
     "ename": "NameError",
     "evalue": "name 'apt_cl' is not defined",
     "output_type": "error",
     "traceback": [
      "\u001b[0;31m---------------------------------------------------------------------------\u001b[0m",
      "\u001b[0;31mNameError\u001b[0m                                 Traceback (most recent call last)",
      "\u001b[0;32m<ipython-input-10-f40e272b6304>\u001b[0m in \u001b[0;36m<module>\u001b[0;34m\u001b[0m\n\u001b[1;32m      1\u001b[0m \u001b[0;31m#pd.options.display.max_colwidth = 100\u001b[0m\u001b[0;34m\u001b[0m\u001b[0;34m\u001b[0m\u001b[0;34m\u001b[0m\u001b[0m\n\u001b[1;32m      2\u001b[0m \u001b[0;31m#filetering apt price value\u001b[0m\u001b[0;34m\u001b[0m\u001b[0;34m\u001b[0m\u001b[0;34m\u001b[0m\u001b[0m\n\u001b[0;32m----> 3\u001b[0;31m \u001b[0mapt_cl\u001b[0m\u001b[0;34m[\u001b[0m\u001b[0;34m(\u001b[0m\u001b[0mapt_cl\u001b[0m\u001b[0;34m[\u001b[0m\u001b[0;34m'price'\u001b[0m\u001b[0;34m]\u001b[0m \u001b[0;34m<\u001b[0m \u001b[0;36m7000\u001b[0m\u001b[0;34m)\u001b[0m \u001b[0;34m&\u001b[0m \u001b[0;34m(\u001b[0m\u001b[0mapt_cl\u001b[0m\u001b[0;34m[\u001b[0m\u001b[0;34m'price'\u001b[0m\u001b[0;34m]\u001b[0m \u001b[0;34m>\u001b[0m \u001b[0;36m2000\u001b[0m\u001b[0;34m)\u001b[0m\u001b[0;34m]\u001b[0m\u001b[0;34m\u001b[0m\u001b[0;34m\u001b[0m\u001b[0m\n\u001b[0m",
      "\u001b[0;31mNameError\u001b[0m: name 'apt_cl' is not defined"
     ]
    }
   ],
   "source": [
    "#pd.options.display.max_colwidth = 100\n",
    "#filetering apt price value\n",
    "apt_cl[(apt_cl['price'] < 7000) & (apt_cl['price'] > 2000)]"
   ]
  },
  {
   "cell_type": "code",
   "execution_count": 88,
   "metadata": {},
   "outputs": [
    {
     "data": {
      "image/png": "[encoded data removed]",
      "text/plain": [
       "<Figure size 720x432 with 1 Axes>"
      ]
     },
     "metadata": {
      "needs_background": "light"
     },
     "output_type": "display_data"
    }
   ],
   "source": [
    "#look for price distribution\n",
    "from matplotlib import figure\n",
    "import seaborn as sns\n",
    "import matplotlib.pyplot as plt\n",
    "%matplotlib inline\n",
    "\n",
    "plt.figure(figsize=(10,6))\n",
    "plt.hist(apt_cl['price'], edgecolor = 'brown');\n",
    "plt.xlabel(\"Price\")\n",
    "plt.ylabel('Count')\n",
    "plt.title(\"Distribution of prices\");"
   ]
  },
  {
   "cell_type": "code",
   "execution_count": 89,
   "metadata": {},
   "outputs": [
    {
     "data": {
      "text/html": [
       "<div>\n",
       "<style scoped>\n",
       "    .dataframe tbody tr th:only-of-type {\n",
       "        vertical-align: middle;\n",
       "    }\n",
       "\n",
       "    .dataframe tbody tr th {\n",
       "        vertical-align: top;\n",
       "    }\n",
       "\n",
       "    .dataframe thead th {\n",
       "        text-align: right;\n",
       "    }\n",
       "</style>\n",
       "<table border=\"1\" class=\"dataframe\">\n",
       "  <thead>\n",
       "    <tr style=\"text-align: right;\">\n",
       "      <th></th>\n",
       "      <th>number bedrooms</th>\n",
       "      <th>sqft</th>\n",
       "      <th>price</th>\n",
       "    </tr>\n",
       "    <tr>\n",
       "      <th>neighborhood</th>\n",
       "      <th></th>\n",
       "      <th></th>\n",
       "      <th></th>\n",
       "    </tr>\n",
       "  </thead>\n",
       "  <tbody>\n",
       "    <tr>\n",
       "      <th>campbell</th>\n",
       "      <td>2.500000</td>\n",
       "      <td>1184.833333</td>\n",
       "      <td>2700.000000</td>\n",
       "    </tr>\n",
       "    <tr>\n",
       "      <th>cupertino</th>\n",
       "      <td>1.818182</td>\n",
       "      <td>901.909091</td>\n",
       "      <td>2956.818182</td>\n",
       "    </tr>\n",
       "    <tr>\n",
       "      <th>los gatos</th>\n",
       "      <td>1.000000</td>\n",
       "      <td>400.000000</td>\n",
       "      <td>3390.000000</td>\n",
       "    </tr>\n",
       "    <tr>\n",
       "      <th>milpitas</th>\n",
       "      <td>1.700000</td>\n",
       "      <td>896.500000</td>\n",
       "      <td>3121.000000</td>\n",
       "    </tr>\n",
       "    <tr>\n",
       "      <th>mountain view</th>\n",
       "      <td>2.333333</td>\n",
       "      <td>1235.166667</td>\n",
       "      <td>3415.833333</td>\n",
       "    </tr>\n",
       "    <tr>\n",
       "      <th>san jose downtown</th>\n",
       "      <td>1.571429</td>\n",
       "      <td>946.523810</td>\n",
       "      <td>2394.142857</td>\n",
       "    </tr>\n",
       "    <tr>\n",
       "      <th>san jose north</th>\n",
       "      <td>3.000000</td>\n",
       "      <td>1500.000000</td>\n",
       "      <td>3800.000000</td>\n",
       "    </tr>\n",
       "    <tr>\n",
       "      <th>san jose south</th>\n",
       "      <td>1.571429</td>\n",
       "      <td>886.428571</td>\n",
       "      <td>2473.142857</td>\n",
       "    </tr>\n",
       "    <tr>\n",
       "      <th>san jose west</th>\n",
       "      <td>1.909091</td>\n",
       "      <td>901.363636</td>\n",
       "      <td>2400.909091</td>\n",
       "    </tr>\n",
       "    <tr>\n",
       "      <th>santa clara</th>\n",
       "      <td>1.923077</td>\n",
       "      <td>983.538462</td>\n",
       "      <td>2265.384615</td>\n",
       "    </tr>\n",
       "    <tr>\n",
       "      <th>sunnyvale</th>\n",
       "      <td>2.181818</td>\n",
       "      <td>1089.454545</td>\n",
       "      <td>3218.181818</td>\n",
       "    </tr>\n",
       "  </tbody>\n",
       "</table>\n",
       "</div>"
      ],
      "text/plain": [
       "                   number bedrooms         sqft        price\n",
       "neighborhood                                                \n",
       "campbell                  2.500000  1184.833333  2700.000000\n",
       "cupertino                 1.818182   901.909091  2956.818182\n",
       "los gatos                 1.000000   400.000000  3390.000000\n",
       "milpitas                  1.700000   896.500000  3121.000000\n",
       "mountain view             2.333333  1235.166667  3415.833333\n",
       "san jose downtown         1.571429   946.523810  2394.142857\n",
       "san jose north            3.000000  1500.000000  3800.000000\n",
       "san jose south            1.571429   886.428571  2473.142857\n",
       "san jose west             1.909091   901.363636  2400.909091\n",
       "santa clara               1.923077   983.538462  2265.384615\n",
       "sunnyvale                 2.181818  1089.454545  3218.181818"
      ]
     },
     "execution_count": 89,
     "metadata": {},
     "output_type": "execute_result"
    }
   ],
   "source": [
    "#grouping city and finding mean for no. of bed room, price, sqft\n",
    "apt_cl.groupby('neighborhood').mean()\n"
   ]
  },
  {
   "cell_type": "code",
   "execution_count": 90,
   "metadata": {},
   "outputs": [
    {
     "data": {
      "text/html": [
       "<div>\n",
       "<style scoped>\n",
       "    .dataframe tbody tr th:only-of-type {\n",
       "        vertical-align: middle;\n",
       "    }\n",
       "\n",
       "    .dataframe tbody tr th {\n",
       "        vertical-align: top;\n",
       "    }\n",
       "\n",
       "    .dataframe thead th {\n",
       "        text-align: right;\n",
       "    }\n",
       "</style>\n",
       "<table border=\"1\" class=\"dataframe\">\n",
       "  <thead>\n",
       "    <tr style=\"text-align: right;\">\n",
       "      <th></th>\n",
       "      <th>price</th>\n",
       "    </tr>\n",
       "    <tr>\n",
       "      <th>neighborhood</th>\n",
       "      <th></th>\n",
       "    </tr>\n",
       "  </thead>\n",
       "  <tbody>\n",
       "    <tr>\n",
       "      <th>santa clara</th>\n",
       "      <td>2265.384615</td>\n",
       "    </tr>\n",
       "    <tr>\n",
       "      <th>san jose downtown</th>\n",
       "      <td>2394.142857</td>\n",
       "    </tr>\n",
       "    <tr>\n",
       "      <th>san jose west</th>\n",
       "      <td>2400.909091</td>\n",
       "    </tr>\n",
       "    <tr>\n",
       "      <th>san jose south</th>\n",
       "      <td>2473.142857</td>\n",
       "    </tr>\n",
       "    <tr>\n",
       "      <th>campbell</th>\n",
       "      <td>2700.000000</td>\n",
       "    </tr>\n",
       "    <tr>\n",
       "      <th>cupertino</th>\n",
       "      <td>2956.818182</td>\n",
       "    </tr>\n",
       "    <tr>\n",
       "      <th>milpitas</th>\n",
       "      <td>3121.000000</td>\n",
       "    </tr>\n",
       "    <tr>\n",
       "      <th>sunnyvale</th>\n",
       "      <td>3218.181818</td>\n",
       "    </tr>\n",
       "    <tr>\n",
       "      <th>los gatos</th>\n",
       "      <td>3390.000000</td>\n",
       "    </tr>\n",
       "    <tr>\n",
       "      <th>mountain view</th>\n",
       "      <td>3415.833333</td>\n",
       "    </tr>\n",
       "    <tr>\n",
       "      <th>san jose north</th>\n",
       "      <td>3800.000000</td>\n",
       "    </tr>\n",
       "  </tbody>\n",
       "</table>\n",
       "</div>"
      ],
      "text/plain": [
       "                         price\n",
       "neighborhood                  \n",
       "santa clara        2265.384615\n",
       "san jose downtown  2394.142857\n",
       "san jose west      2400.909091\n",
       "san jose south     2473.142857\n",
       "campbell           2700.000000\n",
       "cupertino          2956.818182\n",
       "milpitas           3121.000000\n",
       "sunnyvale          3218.181818\n",
       "los gatos          3390.000000\n",
       "mountain view      3415.833333\n",
       "san jose north     3800.000000"
      ]
     },
     "execution_count": 90,
     "metadata": {},
     "output_type": "execute_result"
    }
   ],
   "source": [
    "apt_sort = pd.DataFrame(apt_cl.groupby('neighborhood').mean()['price'].sort_values())\n",
    "apt_sort"
   ]
  },
  {
   "cell_type": "code",
   "execution_count": 118,
   "metadata": {},
   "outputs": [
    {
     "name": "stderr",
     "output_type": "stream",
     "text": [
      "/Users/bnakarmi/anaconda3/lib/python3.7/site-packages/ipykernel_launcher.py:6: DataConversionWarning: Data with input dtype int64, float64 were all converted to float64 by the scale function.\n",
      "  \n"
     ]
    },
    {
     "data": {
      "text/html": [
       "<div>\n",
       "<style scoped>\n",
       "    .dataframe tbody tr th:only-of-type {\n",
       "        vertical-align: middle;\n",
       "    }\n",
       "\n",
       "    .dataframe tbody tr th {\n",
       "        vertical-align: top;\n",
       "    }\n",
       "\n",
       "    .dataframe thead th {\n",
       "        text-align: right;\n",
       "    }\n",
       "</style>\n",
       "<table border=\"1\" class=\"dataframe\">\n",
       "  <thead>\n",
       "    <tr style=\"text-align: right;\">\n",
       "      <th></th>\n",
       "      <th>number bedrooms</th>\n",
       "      <th>sqft</th>\n",
       "      <th>price</th>\n",
       "    </tr>\n",
       "  </thead>\n",
       "  <tbody>\n",
       "    <tr>\n",
       "      <th>0</th>\n",
       "      <td>0.133432</td>\n",
       "      <td>-0.389577</td>\n",
       "      <td>0.320507</td>\n",
       "    </tr>\n",
       "    <tr>\n",
       "      <th>1</th>\n",
       "      <td>0.133432</td>\n",
       "      <td>-0.389577</td>\n",
       "      <td>0.320507</td>\n",
       "    </tr>\n",
       "    <tr>\n",
       "      <th>2</th>\n",
       "      <td>0.133432</td>\n",
       "      <td>-0.389577</td>\n",
       "      <td>0.320507</td>\n",
       "    </tr>\n",
       "    <tr>\n",
       "      <th>3</th>\n",
       "      <td>-0.956264</td>\n",
       "      <td>-0.421982</td>\n",
       "      <td>-0.312395</td>\n",
       "    </tr>\n",
       "    <tr>\n",
       "      <th>4</th>\n",
       "      <td>0.133432</td>\n",
       "      <td>-0.389577</td>\n",
       "      <td>0.320507</td>\n",
       "    </tr>\n",
       "  </tbody>\n",
       "</table>\n",
       "</div>"
      ],
      "text/plain": [
       "   number bedrooms      sqft     price\n",
       "0         0.133432 -0.389577  0.320507\n",
       "1         0.133432 -0.389577  0.320507\n",
       "2         0.133432 -0.389577  0.320507\n",
       "3        -0.956264 -0.421982 -0.312395\n",
       "4         0.133432 -0.389577  0.320507"
      ]
     },
     "execution_count": 118,
     "metadata": {},
     "output_type": "execute_result"
    }
   ],
   "source": [
    "#### Normalization of data\n",
    "from sklearn.preprocessing import scale\n",
    "\n",
    "apt_dp = apt_cl[['number bedrooms','sqft','price']]\n",
    "                \n",
    "apt_scale = scale(apt_dp)\n",
    "apt_scale\n",
    "#convert into dataframe\n",
    "apt_df = pd.DataFrame(apt_scale)\n",
    "apt_df.columns = ['number bedrooms','sqft','price']\n",
    "apt_df.head()\n"
   ]
  },
  {
   "cell_type": "markdown",
   "metadata": {},
   "source": [
    "##### Price vs square foot "
   ]
  },
  {
   "cell_type": "code",
   "execution_count": 119,
   "metadata": {},
   "outputs": [
    {
     "data": {
      "image/png": "[encoded data removed]",
      "text/plain": [
       "<Figure size 864x576 with 1 Axes>"
      ]
     },
     "metadata": {
      "needs_background": "light"
     },
     "output_type": "display_data"
    }
   ],
   "source": [
    "plt.figure(figsize=(12,8))\n",
    "sns.regplot(x='price', y = 'sqft', data = apt_df);\n",
    "plt.title('Price vs. Square Footage Regression Plot');\n",
    "plt.xlabel(\"Price\");\n",
    "plt.ylabel(\"Square Feet\");"
   ]
  },
  {
   "cell_type": "code",
   "execution_count": 121,
   "metadata": {},
   "outputs": [
    {
     "data": {
      "text/html": [
       "<div>\n",
       "<style scoped>\n",
       "    .dataframe tbody tr th:only-of-type {\n",
       "        vertical-align: middle;\n",
       "    }\n",
       "\n",
       "    .dataframe tbody tr th {\n",
       "        vertical-align: top;\n",
       "    }\n",
       "\n",
       "    .dataframe thead th {\n",
       "        text-align: right;\n",
       "    }\n",
       "</style>\n",
       "<table border=\"1\" class=\"dataframe\">\n",
       "  <thead>\n",
       "    <tr style=\"text-align: right;\">\n",
       "      <th></th>\n",
       "      <th>number bedrooms</th>\n",
       "      <th>sqft</th>\n",
       "      <th>price</th>\n",
       "    </tr>\n",
       "  </thead>\n",
       "  <tbody>\n",
       "    <tr>\n",
       "      <th>number bedrooms</th>\n",
       "      <td>1.000000</td>\n",
       "      <td>0.875274</td>\n",
       "      <td>0.045696</td>\n",
       "    </tr>\n",
       "    <tr>\n",
       "      <th>sqft</th>\n",
       "      <td>0.875274</td>\n",
       "      <td>1.000000</td>\n",
       "      <td>0.036451</td>\n",
       "    </tr>\n",
       "    <tr>\n",
       "      <th>price</th>\n",
       "      <td>0.045696</td>\n",
       "      <td>0.036451</td>\n",
       "      <td>1.000000</td>\n",
       "    </tr>\n",
       "  </tbody>\n",
       "</table>\n",
       "</div>"
      ],
      "text/plain": [
       "                 number bedrooms      sqft     price\n",
       "number bedrooms         1.000000  0.875274  0.045696\n",
       "sqft                    0.875274  1.000000  0.036451\n",
       "price                   0.045696  0.036451  1.000000"
      ]
     },
     "execution_count": 121,
     "metadata": {},
     "output_type": "execute_result"
    }
   ],
   "source": [
    "apt_df.corr()"
   ]
  },
  {
   "cell_type": "code",
   "execution_count": 125,
   "metadata": {},
   "outputs": [
    {
     "data": {
      "text/html": [
       "<div>\n",
       "<style scoped>\n",
       "    .dataframe tbody tr th:only-of-type {\n",
       "        vertical-align: middle;\n",
       "    }\n",
       "\n",
       "    .dataframe tbody tr th {\n",
       "        vertical-align: top;\n",
       "    }\n",
       "\n",
       "    .dataframe thead th {\n",
       "        text-align: right;\n",
       "    }\n",
       "</style>\n",
       "<table border=\"1\" class=\"dataframe\">\n",
       "  <thead>\n",
       "    <tr style=\"text-align: right;\">\n",
       "      <th></th>\n",
       "      <th>number bedrooms</th>\n",
       "      <th>sqft</th>\n",
       "      <th>price</th>\n",
       "    </tr>\n",
       "  </thead>\n",
       "  <tbody>\n",
       "    <tr>\n",
       "      <th>count</th>\n",
       "      <td>98.000000</td>\n",
       "      <td>98.000000</td>\n",
       "      <td>98.000000</td>\n",
       "    </tr>\n",
       "    <tr>\n",
       "      <th>mean</th>\n",
       "      <td>1.877551</td>\n",
       "      <td>980.336735</td>\n",
       "      <td>2719.071429</td>\n",
       "    </tr>\n",
       "    <tr>\n",
       "      <th>std</th>\n",
       "      <td>0.922405</td>\n",
       "      <td>465.283528</td>\n",
       "      <td>849.658552</td>\n",
       "    </tr>\n",
       "    <tr>\n",
       "      <th>min</th>\n",
       "      <td>1.000000</td>\n",
       "      <td>350.000000</td>\n",
       "      <td>850.000000</td>\n",
       "    </tr>\n",
       "    <tr>\n",
       "      <th>25%</th>\n",
       "      <td>1.000000</td>\n",
       "      <td>702.750000</td>\n",
       "      <td>2223.750000</td>\n",
       "    </tr>\n",
       "    <tr>\n",
       "      <th>50%</th>\n",
       "      <td>2.000000</td>\n",
       "      <td>862.500000</td>\n",
       "      <td>2650.000000</td>\n",
       "    </tr>\n",
       "    <tr>\n",
       "      <th>75%</th>\n",
       "      <td>2.000000</td>\n",
       "      <td>1114.750000</td>\n",
       "      <td>3271.250000</td>\n",
       "    </tr>\n",
       "    <tr>\n",
       "      <th>max</th>\n",
       "      <td>7.000000</td>\n",
       "      <td>3667.000000</td>\n",
       "      <td>5450.000000</td>\n",
       "    </tr>\n",
       "  </tbody>\n",
       "</table>\n",
       "</div>"
      ],
      "text/plain": [
       "       number bedrooms         sqft        price\n",
       "count        98.000000    98.000000    98.000000\n",
       "mean          1.877551   980.336735  2719.071429\n",
       "std           0.922405   465.283528   849.658552\n",
       "min           1.000000   350.000000   850.000000\n",
       "25%           1.000000   702.750000  2223.750000\n",
       "50%           2.000000   862.500000  2650.000000\n",
       "75%           2.000000  1114.750000  3271.250000\n",
       "max           7.000000  3667.000000  5450.000000"
      ]
     },
     "execution_count": 125,
     "metadata": {},
     "output_type": "execute_result"
    }
   ],
   "source": [
    "apt_cl.describe()"
   ]
  },
  {
   "cell_type": "markdown",
   "metadata": {},
   "source": [
    "#### Prices by neighboorhood box plot\n"
   ]
  },
  {
   "cell_type": "code",
   "execution_count": 133,
   "metadata": {},
   "outputs": [
    {
     "data": {
      "image/png": "[encoded data removed]",
      "text/plain": [
       "<Figure size 1080x720 with 1 Axes>"
      ]
     },
     "metadata": {
      "needs_background": "light"
     },
     "output_type": "display_data"
    }
   ],
   "source": [
    "import matplotlib.pyplot as plt\n",
    "\n",
    "\n",
    "plt.figure(figsize=(15,10))\n",
    "\n",
    "lbl = {'legend.fontsize': 'x-large',\n",
    "      'figure.figsize': (15,5),\n",
    "      'axes.labelsize':'x-large',\n",
    "      'axes.titlesize':'x-large',\n",
    "      'ytick.labelsize':'x-large'}\n",
    "plt.rcParams.update(lbl)\n",
    "\n",
    "sns.boxplot(x='neighborhood', y='price', data = apt_cl)\n",
    "plt.xlabel(\"Neighborhood\");\n",
    "plt.ylabel(\"Price\")\n",
    "plt.title(\"Prices by Neighborhood - Boxplots\");"
   ]
  },
  {
   "cell_type": "code",
   "execution_count": null,
   "metadata": {},
   "outputs": [],
   "source": []
  }
 ],
 "metadata": {
  "kernelspec": {
   "display_name": "Python 3",
   "language": "python",
   "name": "python3"
  },
  "language_info": {
   "codemirror_mode": {
    "name": "ipython",
    "version": 3
   },
   "file_extension": ".py",
   "mimetype": "text/x-python",
   "name": "python",
   "nbconvert_exporter": "python",
   "pygments_lexer": "ipython3",
   "version": "3.7.3"
  }
 },
 "nbformat": 4,
 "nbformat_minor": 2
}
